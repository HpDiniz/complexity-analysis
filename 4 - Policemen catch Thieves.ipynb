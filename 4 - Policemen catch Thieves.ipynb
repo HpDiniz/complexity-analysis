{
 "cells": [
  {
   "cell_type": "markdown",
   "id": "extensive-prefix",
   "metadata": {},
   "source": [
    "<h3>Policemen catch Thieves</h3>\n",
    "<p> Given an array of size n that has the following specifications: <br> \n",
    "    <ul>\n",
    "        <li>Each element in the array contains either a policeman or a thief</li>\n",
    "        <li>Each policeman can catch only one thief</li>\n",
    "        <li>A policeman cannot catch a thief who is more than K units away from the policeman</li>\n",
    "    </ul><br>\n",
    "    We need to find the maximum number of thieves that can be caught. Example:<br>\n",
    "    \n",
    "    Array = [👮🏽‍♂️,🧟‍,👮🏽‍♂️,🧟‍♂️,🧟‍,👮🏽‍♂️]\n",
    "    k = 1\n",
    "    Best solution: 3\n",
    "    \n",
    "    Array = [👮🏽‍♂️,🧟‍,👮🏽‍♂️,👮🏽‍♂️,🧟‍♂️,🧟‍]\n",
    "    k = 2\n",
    "    Best solution: 3\n",
    "    \n",
    "    Array = [👮🏽‍♂️,👮🏽‍♂️,👮🏽‍♂️,🧟‍♂️,🧟‍♂️,🧟‍]\n",
    "    k = 3\n",
    "    Best solution: 3\n",
    "\n",
    "To solve this, we will use a greedy algorithm with the following rule: for each policeman from the left catch the farthest possible thief (preferably without nearby police)\n",
    "</p>"
   ]
  },
  {
   "cell_type": "code",
   "execution_count": 14,
   "id": "armed-heather",
   "metadata": {},
   "outputs": [],
   "source": [
    "import numpy as np\n",
    "import networkx as nx\n",
    "import matplotlib.pyplot as plt\n",
    "from collections import defaultdict\n",
    "from numpy import random"
   ]
  },
  {
   "cell_type": "code",
   "execution_count": 15,
   "id": "ignored-aviation",
   "metadata": {},
   "outputs": [],
   "source": [
    "def GreedyPoliceThieve(arr, k):\n",
    "    \n",
    "    n = len(arr)\n",
    "    iterations = 0\n",
    "    picked = [False] * n\n",
    "    \n",
    "    for i in range(0,n):\n",
    "        iterations+=1\n",
    "        if arr[i] == '👮🏽‍♂️':\n",
    "            \n",
    "            picked[i] = True\n",
    "            polices_left,polices_right = 0, 0\n",
    "            farthest_left,farthest_right = None, None\n",
    "\n",
    "            for j in range(i-1, i-k-1, -1):\n",
    "                iterations+=1\n",
    "                if j < 0:\n",
    "                    continue\n",
    "                if arr[j] == '🧟‍' and not picked[j]:\n",
    "                    farthest_left = j \n",
    "                elif arr[j] == '👮🏽‍♂️':\n",
    "                    polices_left+= 1\n",
    "                    \n",
    "            for j in range(i+1, i+k+1):\n",
    "                iterations+=1\n",
    "                if j >= len(arr):\n",
    "                    continue\n",
    "                if arr[j] == '🧟‍' and not picked[j]:\n",
    "                    farthest_right = j \n",
    "                elif arr[j] == '👮🏽‍♂️':\n",
    "                    polices_right+= 1\n",
    "            \n",
    "            if farthest_left is None:\n",
    "                if farthest_right is not None:\n",
    "                    picked[farthest_right] = True\n",
    "                continue\n",
    "            elif farthest_right is None: \n",
    "                picked[farthest_left] = True\n",
    "                continue\n",
    "            \n",
    "            if i - farthest_left == farthest_right - i:\n",
    "                if(polices_left > polices_right):\n",
    "                    picked[farthest_right] = True\n",
    "                else:\n",
    "                    picked[farthest_left] = True\n",
    "            elif i - farthest_left > farthest_right - i:\n",
    "                picked[farthest_left] = True\n",
    "            else:\n",
    "                picked[farthest_right] = True\n",
    "     \n",
    "    \n",
    "    total = 0\n",
    "    for i in range(0,len(picked)):\n",
    "        iterations+=1\n",
    "        if(picked[i] is True):\n",
    "            if arr[i] == '🧟‍':\n",
    "                total+=1\n",
    "                \n",
    "    return total, iterations"
   ]
  },
  {
   "cell_type": "code",
   "execution_count": 5,
   "id": "younger-sunday",
   "metadata": {},
   "outputs": [],
   "source": [
    "def BrutePoliceThieve(arr, k):\n",
    "    print('test')"
   ]
  },
  {
   "cell_type": "code",
   "execution_count": 6,
   "id": "formal-heather",
   "metadata": {},
   "outputs": [
    {
     "name": "stdout",
     "output_type": "stream",
     "text": [
      "Thieves picked: 2\n"
     ]
    }
   ],
   "source": [
    "arr2 = ['👮🏽‍♂️','🧟‍','👮🏽‍♂️','🧟‍','🧟‍','👮🏽‍♂️']\n",
    "k = 3\n",
    "total, it = GreedyPoliceThieve(arr2,k)\n",
    "print(\"Thieves picked: \" + str(total))"
   ]
  },
  {
   "cell_type": "code",
   "execution_count": 7,
   "id": "explicit-typing",
   "metadata": {},
   "outputs": [
    {
     "name": "stdout",
     "output_type": "stream",
     "text": [
      "Thieves picked: 3\n"
     ]
    }
   ],
   "source": [
    "arr3 = ['🧟‍','🧟‍','👮🏽‍♂️','👮🏽‍♂️','🧟‍','👮🏽‍♂️']\n",
    "k = 2\n",
    "total, it = GreedyPoliceThieve(arr3,k)\n",
    "print(\"Thieves picked: \" + str(total))"
   ]
  },
  {
   "cell_type": "code",
   "execution_count": 8,
   "id": "answering-terrain",
   "metadata": {},
   "outputs": [
    {
     "name": "stdout",
     "output_type": "stream",
     "text": [
      "Thieves picked: 3\n"
     ]
    }
   ],
   "source": [
    "arr3 = ['🧟‍','👮🏽‍♂️','🧟‍','🧟‍','🧟‍','👮🏽‍♂️','👮🏽‍♂️','🧟‍','👮🏽‍♂️']\n",
    "k = 2\n",
    "total, it = GreedyPoliceThieve(arr3,k)\n",
    "print(\"Thieves picked: \" + str(total))"
   ]
  },
  {
   "cell_type": "code",
   "execution_count": 58,
   "id": "undefined-modification",
   "metadata": {},
   "outputs": [],
   "source": [
    "x = [50,100,150,200,250]  # Different input sizes\n",
    "samples = 100         # Quantity of samples to be averaged\n",
    "greedy_approach = []  # Quantity of iterations"
   ]
  },
  {
   "cell_type": "code",
   "execution_count": 59,
   "id": "actual-ultimate",
   "metadata": {},
   "outputs": [],
   "source": [
    "# Calculate the average iterations of all approaches\n",
    "for i in range(len(x)):\n",
    "    \n",
    "    it1, it2 = 0,0\n",
    "    iterations1, iterations2 = 0,0\n",
    "    \n",
    "    for k in range (0,samples):\n",
    "        \n",
    "        array = []\n",
    "        for j in range(x[i]):\n",
    "            rand = random.choice(['🧟‍','👮🏽‍♂️'])\n",
    "            array.append(rand)\n",
    "        \n",
    "        k = np.random.randint(0, x[i]//3, size=1)[0]\n",
    "        total, iterations1 = GreedyPoliceThieve(array,k)\n",
    "\n",
    "        it1 = it1 + iterations1\n",
    "    \n",
    "    greedy_approach.append(it1/samples)"
   ]
  },
  {
   "cell_type": "code",
   "execution_count": 61,
   "id": "military-completion",
   "metadata": {},
   "outputs": [
    {
     "data": {
      "image/png": "[encoded data removed]",
      "text/plain": [
       "<Figure size 720x576 with 1 Axes>"
      ]
     },
     "metadata": {
      "needs_background": "light"
     },
     "output_type": "display_data"
    }
   ],
   "source": [
    "# Plots the complexity graph\n",
    "plt.figure(figsize=(10, 8))\n",
    "plt.plot(x,greedy_approach, c=\"green\", ls=\"-\", lw = 1, marker=\"o\", label=\"Greedy\")\n",
    "plt.title(\"Greedy vs Brute Force\",fontsize=14)\n",
    "plt.xlabel(\"Input\",fontsize=14)\n",
    "plt.ylabel(\"Number of iterations\",fontsize=14)\n",
    "plt.legend(fontsize=13)\n",
    "plt.show()"
   ]
  },
  {
   "cell_type": "code",
   "execution_count": 116,
   "id": "persistent-walter",
   "metadata": {},
   "outputs": [],
   "source": [
    "def maxSetSize(arr):\n",
    "    maxSize = 0\n",
    "    for s in arr:\n",
    "        if(len(s) > maxSize):\n",
    "            maxSize = len(s)\n",
    " \n",
    "    return maxSize\n",
    " \n",
    "def catch(arr, n, pos, k, currComb, allComb):\n",
    "    if(pos < n):\n",
    "        if(arr[pos] == \"P\"):\n",
    "            for i in range(pos-1-k, pos+1+k):            \n",
    "                if(i >= 0 and i < n and arr[i] == \"T\"):\n",
    "                    \n",
    "                    \n",
    "                    breaks = False\n",
    "                    for comb in currComb:\n",
    "                        if (pos) in comb:\n",
    "                            breaks = True\n",
    "                    if breaks:\n",
    "                        continue\n",
    "                    \n",
    "                    currComb.add((pos, i))\n",
    "                    catch(arr, n, pos+1, k, currComb, allComb)\n",
    "        else:\n",
    "            catch(arr, n, pos+1, k, currComb, allComb)\n",
    "    else:\n",
    "        allComb.append(currComb)\n",
    "        return\n",
    "\n",
    "def policeThief(arr, n, k):\n",
    "    allComb = list()\n",
    "    currComb = set()\n",
    " \n",
    "    if(n > 0):\n",
    "        catch(arr, n, 0, k, currComb, allComb)\n",
    "        \n",
    "    print(allComb)\n",
    "    #print(currComb)\n",
    " \n",
    "    #print(maxSetSize(allComb))"
   ]
  },
  {
   "cell_type": "code",
   "execution_count": 117,
   "id": "simplified-grade",
   "metadata": {},
   "outputs": [
    {
     "name": "stdout",
     "output_type": "stream",
     "text": [
      "[{(0, 1), (3, 1)}]\n",
      "None\n"
     ]
    }
   ],
   "source": [
    "arr = ['P', 'T', 'T', 'P', 'T']\n",
    "k = 2\n",
    "n = len(arr)\n",
    "\n",
    "print(policeThief(arr, n, k))"
   ]
  },
  {
   "cell_type": "code",
   "execution_count": 60,
   "id": "incident-ukraine",
   "metadata": {},
   "outputs": [
    {
     "name": "stdout",
     "output_type": "stream",
     "text": [
      "False\n"
     ]
    }
   ],
   "source": [
    "print(3 in [(0, 1), (3, 4), (3, 1), (0, 2), (3, 2)])\n"
   ]
  },
  {
   "cell_type": "code",
   "execution_count": 75,
   "id": "pursuant-antigua",
   "metadata": {},
   "outputs": [
    {
     "name": "stdout",
     "output_type": "stream",
     "text": [
      "True\n",
      "False\n",
      "True\n"
     ]
    }
   ],
   "source": [
    "for x in {(0, 1), (3, 2), (3, 1)}:\n",
    "    print(1 in x)"
   ]
  },
  {
   "cell_type": "code",
   "execution_count": 80,
   "id": "living-feeding",
   "metadata": {},
   "outputs": [
    {
     "data": {
      "text/plain": [
       "0"
      ]
     },
     "execution_count": 80,
     "metadata": {},
     "output_type": "execute_result"
    }
   ],
   "source": [
    "(0,1)[0]"
   ]
  },
  {
   "cell_type": "code",
   "execution_count": null,
   "id": "hourly-sally",
   "metadata": {},
   "outputs": [],
   "source": []
  }
 ],
 "metadata": {
  "kernelspec": {
   "display_name": "Python 3",
   "language": "python",
   "name": "python3"
  },
  "language_info": {
   "codemirror_mode": {
    "name": "ipython",
    "version": 3
   },
   "file_extension": ".py",
   "mimetype": "text/x-python",
   "name": "python",
   "nbconvert_exporter": "python",
   "pygments_lexer": "ipython3",
   "version": "3.9.4"
  }
 },
 "nbformat": 4,
 "nbformat_minor": 5
}
