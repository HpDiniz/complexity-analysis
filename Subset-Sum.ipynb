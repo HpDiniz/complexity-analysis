{
 "cells": [
  {
   "cell_type": "code",
   "execution_count": 249,
   "id": "early-missile",
   "metadata": {},
   "outputs": [],
   "source": [
    "import numpy as np"
   ]
  },
  {
   "cell_type": "code",
   "execution_count": 250,
   "id": "completed-genealogy",
   "metadata": {},
   "outputs": [],
   "source": [
    "# Find the solution using the Backtracking with pruning the search tree\n",
    "def SubsetSum(w, M, x, S, i, T, iterations = 0):\n",
    "\n",
    "    if(S == M):\n",
    "        print(GetSet(w,x))\n",
    "        return iterations\n",
    "    else:\n",
    "        if ( S + T >= M ):\n",
    "            x[i] = 0;\n",
    "            iterations += 1\n",
    "            iterations = SubsetSum(w, M, x, S, i+1, T - w[i], iterations)\n",
    "            if ( S + w[i] <= M ):\n",
    "                x[i] = 1;\n",
    "                iterations += 1\n",
    "                iterations = SubsetSum(w, M, x, S + w[i], i+1, T - w[i], iterations)\n",
    "    \n",
    "    return iterations\n",
    "\n",
    "# Find the solution using the Backtracking without pruning the search tree\n",
    "def SubsetSum2(w, M, x, S, i, iterations = 0):\n",
    "\n",
    "    if(i == len(w)):\n",
    "        if(S == M):\n",
    "            print(GetSet(w,x))\n",
    "            return iterations\n",
    "    else:\n",
    "        x[i] = 0\n",
    "        iterations += 1\n",
    "        iterations = SubsetSum2(w, M, x, S, i+1, iterations)\n",
    "        x[i] = 1\n",
    "        iterations += 1\n",
    "        iterations = SubsetSum2(w, M, x, S + w[i], i+1, iterations)   \n",
    "    \n",
    "    return iterations\n",
    "\n",
    "# Find the solution using the approach of testing all subsets\n",
    "def TestAllCombinations(w, M):\n",
    "    \n",
    "    combinations, iterations = AllSubsets(w, np.zeros(len(w), dtype=int), M)\n",
    "    \n",
    "    for i in range(0,len(combinations)):\n",
    "        iterations += 1\n",
    "        if sum(combinations[i]) == M:\n",
    "            print(combinations[i])\n",
    "            \n",
    "    return iterations\n",
    "\n",
    "# Find all subsets of a given set\n",
    "def AllSubsets(w, x, M, index=0, allSets = [], iterations = 0):\n",
    "    if(index == len(w)):\n",
    "        allSets.append(GetSet(w,x))\n",
    "        return allSets, iterations\n",
    "    else:\n",
    "        x[index] = 0\n",
    "        iterations += 1\n",
    "        allSets, iterations = AllSubsets(w, x, M, index+1, allSets, iterations)\n",
    "        x[index] = 1\n",
    "        iterations += 1\n",
    "        allSets, iterations = AllSubsets(w, x, M, index+1, allSets, iterations)\n",
    "    \n",
    "    return allSets, iterations\n",
    "\n",
    "# Find all permutations of a given set\n",
    "def AllPermutations(w, index=0):\n",
    "    \n",
    "    if(index == len(w)):\n",
    "        print(w)\n",
    "\n",
    "    for i in range(index,len(w)):\n",
    "        w[i], w[index] = w[index], w[i]\n",
    "        AllPermutations(w, index+1)\n",
    "        w[index], w[i] = w[i], w[index]\n",
    "        \n",
    "# Returns a set after binary mapping\n",
    "def GetSet(w, x):\n",
    "    setW = []\n",
    "    for i in range(0,len(x)):\n",
    "        if x[i] == 1:\n",
    "            setW.append(w[i])\n",
    "    return setW"
   ]
  },
  {
   "cell_type": "code",
   "execution_count": 251,
   "id": "humanitarian-interim",
   "metadata": {},
   "outputs": [],
   "source": [
    "M = 10\n",
    "principalSet = [1,2,3,4]\n",
    "\n",
    "x = [10, 25, 50, 100, 200, 500]  # Different input sizes\n",
    "backtrack_with_pruning = []      # Quantity of iterations in Backtracking with pruning the search tree\n",
    "backtrack_without_pruning = []   # Quantity of iterations in Backtracking without pruning the search tree\n",
    "testing_all_subsets = []         # Quantity of iterations using the approach of testing all subsets"
   ]
  },
  {
   "cell_type": "code",
   "execution_count": null,
   "id": "functioning-invite",
   "metadata": {},
   "outputs": [],
   "source": [
    "# Calculate the iterations with all approachs\n",
    "for i in range(len(x)):\n",
    "    order_list = []\n",
    "    for j in range (x[i]):\n",
    "        order_list.append(j)\n",
    "    backtrack_with_pruning.append(bubbleSortIteration(best))\n",
    "    backtrack_without_pruning.append(bubbleSortIteration(worst))\n",
    "    testing_all_subsets.append(improvedBubbleSortIteration(best))\n",
    "    worst_case_2.append(improvedBubbleSortIteration(worst))"
   ]
  },
  {
   "cell_type": "code",
   "execution_count": 252,
   "id": "killing-shopper",
   "metadata": {},
   "outputs": [
    {
     "name": "stdout",
     "output_type": "stream",
     "text": [
      "Solution 1:\n",
      "[1, 2, 3, 4]\n"
     ]
    }
   ],
   "source": [
    "print (\"Solution 1:\")\n",
    "iteration1 = SubsetSum(principalSet, M, np.zeros(len(principalSet), dtype=int), 0, 0, sum(principalSet));"
   ]
  },
  {
   "cell_type": "code",
   "execution_count": 253,
   "id": "alert-people",
   "metadata": {},
   "outputs": [
    {
     "name": "stdout",
     "output_type": "stream",
     "text": [
      "Solution 2:\n",
      "[1, 2, 3, 4]\n"
     ]
    }
   ],
   "source": [
    "print (\"Solution 2:\")\n",
    "SubsetSum2(principalSet, M, np.zeros(len(principalSet), dtype=int), 0, 0);"
   ]
  },
  {
   "cell_type": "code",
   "execution_count": 254,
   "id": "armed-london",
   "metadata": {},
   "outputs": [
    {
     "name": "stdout",
     "output_type": "stream",
     "text": [
      "All SubSets:\n",
      "[1, 2, 3, 4]\n"
     ]
    }
   ],
   "source": [
    "print (\"All SubSets:\")\n",
    "TestAllCombinations(principalSet, M);"
   ]
  },
  {
   "cell_type": "code",
   "execution_count": 255,
   "id": "furnished-champion",
   "metadata": {},
   "outputs": [
    {
     "name": "stdout",
     "output_type": "stream",
     "text": [
      "8 - 30 - 46\n"
     ]
    }
   ],
   "source": [
    "print(str(iteration1) + \" - \" + str(iteration2) + \" - \" + str(iteration3))"
   ]
  },
  {
   "cell_type": "code",
   "execution_count": null,
   "id": "regulation-command",
   "metadata": {},
   "outputs": [],
   "source": []
  }
 ],
 "metadata": {
  "kernelspec": {
   "display_name": "Python 3",
   "language": "python",
   "name": "python3"
  },
  "language_info": {
   "codemirror_mode": {
    "name": "ipython",
    "version": 3
   },
   "file_extension": ".py",
   "mimetype": "text/x-python",
   "name": "python",
   "nbconvert_exporter": "python",
   "pygments_lexer": "ipython3",
   "version": "3.9.4"
  }
 },
 "nbformat": 4,
 "nbformat_minor": 5
}
