{
 "cells": [
  {
   "cell_type": "code",
   "execution_count": 28,
   "id": "early-missile",
   "metadata": {},
   "outputs": [],
   "source": [
    "import random\n",
    "import numpy as np\n",
    "import matplotlib.pyplot as plt"
   ]
  },
  {
   "cell_type": "code",
   "execution_count": 29,
   "id": "offensive-burning",
   "metadata": {},
   "outputs": [],
   "source": [
    "class Item:\n",
    "    def __init__(self, set_length, target_sum):\n",
    "        self.set_length = set_length\n",
    "        self.target_sum = target_sum"
   ]
  },
  {
   "cell_type": "code",
   "execution_count": 30,
   "id": "completed-genealogy",
   "metadata": {},
   "outputs": [],
   "source": [
    "def isSubsetSum(S, set_length, target_sum, dictionary):\n",
    " \n",
    "    if target_sum == 0:\n",
    "        return True\n",
    " \n",
    "    if set_length < 0 or target_sum < 0:\n",
    "        return False\n",
    " \n",
    "    item = Item(set_length, target_sum)\n",
    " \n",
    "    if item not in dictionary:\n",
    "        \n",
    "        not_pick = isSubsetSum(S, set_length - 1, target_sum, dictionary) #dont pick last element\n",
    " \n",
    "        pick = isSubsetSum(S, set_length - 1, target_sum - S[set_length], dictionary) #pick last element\n",
    "\n",
    "        dictionary[item] = pick or not_pick\n",
    "     \n",
    "    return dictionary[item]"
   ]
  },
  {
   "cell_type": "code",
   "execution_count": 31,
   "id": "controlling-overview",
   "metadata": {},
   "outputs": [
    {
     "name": "stdout",
     "output_type": "stream",
     "text": [
      "Subset exists\n"
     ]
    }
   ],
   "source": [
    "# Input: a set of items and a sum\n",
    "S = [3, 34, 4, 12, 5, 2]\n",
    "summation = 14\n",
    "\n",
    "if (isSubsetSum(S, len(S) - 1, summation, {})):\n",
    "    print(\"Subset exists\")\n",
    "else:\n",
    "    print(\"Subset does not exist\")"
   ]
  },
  {
   "cell_type": "code",
   "execution_count": 32,
   "id": "cutting-manual",
   "metadata": {},
   "outputs": [
    {
     "name": "stdout",
     "output_type": "stream",
     "text": [
      "Subset does not exist\n"
     ]
    }
   ],
   "source": [
    "# Input: a set of items and a sum\n",
    "S = [3, 34, 4, 12, 5, 2]\n",
    "summation = 1\n",
    "\n",
    "if (isSubsetSum(S, len(S) - 1, summation, {})):\n",
    "    print(\"Subset exists\")\n",
    "else:\n",
    "    print(\"Subset does not exist\")"
   ]
  },
  {
   "cell_type": "code",
   "execution_count": 33,
   "id": "departmental-merchandise",
   "metadata": {},
   "outputs": [
    {
     "name": "stdout",
     "output_type": "stream",
     "text": [
      "Subset does not exist\n"
     ]
    }
   ],
   "source": [
    "# Input: a set of items and a sum\n",
    "S = [5,6,7,9]\n",
    "summation = 8\n",
    "\n",
    "if (isSubsetSum(S, len(S) - 1, summation, {})):\n",
    "    print(\"Subset exists\")\n",
    "else:\n",
    "    print(\"Subset does not exist\")"
   ]
  },
  {
   "cell_type": "code",
   "execution_count": 34,
   "id": "conscious-marriage",
   "metadata": {},
   "outputs": [
    {
     "name": "stdout",
     "output_type": "stream",
     "text": [
      "Subset exists\n"
     ]
    }
   ],
   "source": [
    "# Input: a set of items and a sum\n",
    "S = [5,6,7,9]\n",
    "summation = 11\n",
    "\n",
    "if (isSubsetSum(S, len(S) - 1, summation, {})):\n",
    "    print(\"Subset exists\")\n",
    "else:\n",
    "    print(\"Subset does not exist\")"
   ]
  },
  {
   "cell_type": "code",
   "execution_count": 35,
   "id": "cubic-ending",
   "metadata": {},
   "outputs": [],
   "source": [
    "def subsetExist(X, n):\n",
    "    \n",
    "    sum = 0\n",
    "    choosen = []\n",
    "    \n",
    "    for i in range(0,len(set)):\n",
    "        xi = random.choice([True, False])\n",
    "        if xi:\n",
    "            sum = sum + X[i]\n",
    "            choosen.append(X[i])\n",
    "            \n",
    "    print(choosen)\n",
    "    \n",
    "    if sum == n:\n",
    "        return True\n",
    "    else:\n",
    "        return False"
   ]
  },
  {
   "cell_type": "code",
   "execution_count": 36,
   "id": "moved-surfing",
   "metadata": {},
   "outputs": [
    {
     "name": "stdout",
     "output_type": "stream",
     "text": [
      "[2, 4]\n",
      "False\n"
     ]
    }
   ],
   "source": [
    "set = [2,6,4,1,5,3,2,4]\n",
    "n = 12\n",
    "print(subsetExist(set,n))"
   ]
  }
 ],
 "metadata": {
  "kernelspec": {
   "display_name": "Python 3",
   "language": "python",
   "name": "python3"
  },
  "language_info": {
   "codemirror_mode": {
    "name": "ipython",
    "version": 3
   },
   "file_extension": ".py",
   "mimetype": "text/x-python",
   "name": "python",
   "nbconvert_exporter": "python",
   "pygments_lexer": "ipython3",
   "version": "3.9.4"
  }
 },
 "nbformat": 4,
 "nbformat_minor": 5
}
