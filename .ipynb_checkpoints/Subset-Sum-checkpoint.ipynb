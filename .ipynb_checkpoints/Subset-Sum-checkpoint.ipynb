{
 "cells": [
  {
   "cell_type": "code",
   "execution_count": 59,
   "id": "early-missile",
   "metadata": {},
   "outputs": [],
   "source": [
    "import numpy as np"
   ]
  },
  {
   "cell_type": "code",
   "execution_count": 60,
   "id": "incident-scanner",
   "metadata": {},
   "outputs": [],
   "source": [
    "#Complexity variables\n",
    "iteration1 = 0\n",
    "iteration2 = 0\n",
    "iteration3 = 0"
   ]
  },
  {
   "cell_type": "code",
   "execution_count": 73,
   "id": "completed-genealogy",
   "metadata": {},
   "outputs": [],
   "source": [
    "def PrintSet(w, x):\n",
    "    text = \"[\"\n",
    "    for i in range(0,len(x)):\n",
    "        if x[i] == 1:\n",
    "            if text == \"[\":\n",
    "                text = text + str(w[i])\n",
    "            else:\n",
    "                text = text + \", \" + str(w[i])\n",
    "    text = text + \"]\"\n",
    "    print(text)\n",
    "    \n",
    "def SubsetSum(w, M, x, S, i, T):\n",
    "    global iteration1\n",
    "    \n",
    "    if(S == M):\n",
    "        PrintSet(w,x)\n",
    "    else:\n",
    "        if ( S + T >= M ):\n",
    "            x[i] = 0;\n",
    "            iteration1 += 1\n",
    "            SubsetSum(w, M, x, S, i+1, T - w[i])\n",
    "            if ( S + w[i] <= M ):\n",
    "                x[i] = 1;\n",
    "                iteration1 += 1\n",
    "                SubsetSum(w, M, x, S + w[i], i+1, T - w[i])\n",
    "                \n",
    "def SubsetSum2(w, M, x, S, i):\n",
    "    global iteration2\n",
    "    \n",
    "    if(i == len(w)):\n",
    "        if(S == M):\n",
    "            PrintSet(w,x)\n",
    "    else:\n",
    "        x[i] = 0\n",
    "        iteration2 += 1\n",
    "        SubsetSum2(w, M, x, S, i+1)\n",
    "        x[i] = 1\n",
    "        iteration2 += 1\n",
    "        SubsetSum2(w, M, x, S + w[i], i+1)   \n",
    "        \n",
    "def AllPermutations(w, index=0):\n",
    "    global iteration3\n",
    "    \n",
    "    if(index == len(w)):\n",
    "        print(w)\n",
    "\n",
    "    for i in range(index,len(w)):\n",
    "        w[i], w[index] = w[index], w[i]\n",
    "        iteration3 += 1\n",
    "        AllPermutations(w, index+1)\n",
    "        w[index], w[i] = w[i], w[index]\n",
    "        \n",
    "def AllSubsets2(w,x,index=0):\n",
    "    \n",
    "    if(index == len(w)-1):\n",
    "        print(x)\n",
    "\n",
    "    for i in range(index,len(w)):\n",
    "        x[i] = 0\n",
    "        w[i] = None\n",
    "        AllSubsets(w, index+1)\n",
    "        w[i] = temp\n",
    "        \n",
    "def AllSubsets(w, M, x, S, i):\n",
    "    global iteration2\n",
    "    \n",
    "    if(i == len(w)):\n",
    "        PrintSet(w,x)\n",
    "    else:\n",
    "        x[i] = 0\n",
    "        iteration2 += 1\n",
    "        SubsetSum2(w, M, x, S, i+1)\n",
    "        x[i] = 1\n",
    "        iteration2 += 1\n",
    "        SubsetSum2(w, M, x, S + w[i], i+1) "
   ]
  },
  {
   "cell_type": "code",
   "execution_count": 74,
   "id": "humanitarian-interim",
   "metadata": {},
   "outputs": [],
   "source": [
    "M = 6\n",
    "principalSet = [1,2,3,4]"
   ]
  },
  {
   "cell_type": "code",
   "execution_count": 75,
   "id": "killing-shopper",
   "metadata": {},
   "outputs": [
    {
     "name": "stdout",
     "output_type": "stream",
     "text": [
      "Solution 1:\n",
      "[2, 4]\n",
      "[1, 2, 3]\n"
     ]
    }
   ],
   "source": [
    "print (\"Solution 1:\")\n",
    "SubsetSum(principalSet, M, np.zeros(len(principalSet), dtype=int), 0, 0, sum(principalSet));"
   ]
  },
  {
   "cell_type": "code",
   "execution_count": 76,
   "id": "alert-people",
   "metadata": {},
   "outputs": [
    {
     "name": "stdout",
     "output_type": "stream",
     "text": [
      "Solution 2:\n",
      "[2, 4]\n",
      "[1, 2, 3]\n"
     ]
    }
   ],
   "source": [
    "print (\"Solution 2:\")\n",
    "SubsetSum2(principalSet, M, np.zeros(len(principalSet), dtype=int), 0, 0);"
   ]
  },
  {
   "cell_type": "code",
   "execution_count": 77,
   "id": "automatic-artwork",
   "metadata": {},
   "outputs": [
    {
     "name": "stdout",
     "output_type": "stream",
     "text": [
      "All Permutations:\n",
      "[1, 2, 3, 4]\n",
      "[1, 2, 4, 3]\n",
      "[1, 3, 2, 4]\n",
      "[1, 3, 4, 2]\n",
      "[1, 4, 3, 2]\n",
      "[1, 4, 2, 3]\n",
      "[2, 1, 3, 4]\n",
      "[2, 1, 4, 3]\n",
      "[2, 3, 1, 4]\n",
      "[2, 3, 4, 1]\n",
      "[2, 4, 3, 1]\n",
      "[2, 4, 1, 3]\n",
      "[3, 2, 1, 4]\n",
      "[3, 2, 4, 1]\n",
      "[3, 1, 2, 4]\n",
      "[3, 1, 4, 2]\n",
      "[3, 4, 1, 2]\n",
      "[3, 4, 2, 1]\n",
      "[4, 2, 3, 1]\n",
      "[4, 2, 1, 3]\n",
      "[4, 3, 2, 1]\n",
      "[4, 3, 1, 2]\n",
      "[4, 1, 3, 2]\n",
      "[4, 1, 2, 3]\n"
     ]
    }
   ],
   "source": [
    "print (\"All Permutations:\")\n",
    "AllPermutations(principalSet);"
   ]
  },
  {
   "cell_type": "code",
   "execution_count": 78,
   "id": "vietnamese-consciousness",
   "metadata": {},
   "outputs": [
    {
     "name": "stdout",
     "output_type": "stream",
     "text": [
      "All SubSets:\n",
      "[None, None, None, 4]\n",
      "[None, None, 3, None]\n",
      "[None, 2, None, 4]\n",
      "[None, 2, None, None]\n",
      "[None, 2, None, None]\n",
      "[None, 2, 3, None]\n",
      "[1, None, None, 4]\n",
      "[1, None, 3, None]\n",
      "[1, None, None, 4]\n",
      "[1, None, None, None]\n",
      "[1, None, None, None]\n",
      "[1, None, 3, None]\n",
      "[1, None, None, 4]\n",
      "[1, None, None, None]\n",
      "[1, 2, None, 4]\n",
      "[1, 2, None, None]\n",
      "[1, 2, None, None]\n",
      "[1, 2, None, None]\n",
      "[1, None, None, None]\n",
      "[1, None, 3, None]\n",
      "[1, 2, None, None]\n",
      "[1, 2, None, None]\n",
      "[1, 2, None, None]\n",
      "[1, 2, 3, None]\n"
     ]
    }
   ],
   "source": [
    "print (\"All SubSets:\")\n",
    "AllSubsets(principalSet,np.zeros(len(principalSet))"
   ]
  },
  {
   "cell_type": "code",
   "execution_count": 56,
   "id": "furnished-champion",
   "metadata": {},
   "outputs": [
    {
     "name": "stdout",
     "output_type": "stream",
     "text": [
      "100 - 150 - 320\n"
     ]
    }
   ],
   "source": [
    "print(str(iteration1) + \" - \" + str(iteration2) + \" - \" + str(iteration3))"
   ]
  },
  {
   "cell_type": "code",
   "execution_count": null,
   "id": "regulation-command",
   "metadata": {},
   "outputs": [],
   "source": []
  }
 ],
 "metadata": {
  "kernelspec": {
   "display_name": "Python 3",
   "language": "python",
   "name": "python3"
  },
  "language_info": {
   "codemirror_mode": {
    "name": "ipython",
    "version": 3
   },
   "file_extension": ".py",
   "mimetype": "text/x-python",
   "name": "python",
   "nbconvert_exporter": "python",
   "pygments_lexer": "ipython3",
   "version": "3.9.4"
  }
 },
 "nbformat": 4,
 "nbformat_minor": 5
}
