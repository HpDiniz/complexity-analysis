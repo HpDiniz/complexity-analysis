{
 "cells": [
  {
   "cell_type": "code",
   "execution_count": 251,
   "id": "early-missile",
   "metadata": {},
   "outputs": [],
   "source": [
    "import numpy as np\n",
    "import matplotlib.pyplot as plt\n",
    "import random\n",
    "from random import sample"
   ]
  },
  {
   "cell_type": "code",
   "execution_count": 252,
   "id": "completed-genealogy",
   "metadata": {},
   "outputs": [],
   "source": [
    "#Change Making problem with a simple solution\n",
    "def GreedySubset(A):\n",
    "    \n",
    "    picks = []\n",
    "    \n",
    "    A.sort(key=lambda e: e[-1])\n",
    "    \n",
    "    picks.append(A[0])\n",
    "    \n",
    "    for i in range(1,len(A)):\n",
    "        if A[i][0] >= picks[-1][-1]:\n",
    "            picks.append(A[i])\n",
    "    \n",
    "    return picks"
   ]
  },
  {
   "cell_type": "code",
   "execution_count": 253,
   "id": "rocky-viewer",
   "metadata": {},
   "outputs": [
    {
     "data": {
      "text/plain": [
       "[[1, 4], [5, 7], [8, 11], [12, 14]]"
      ]
     },
     "execution_count": 253,
     "metadata": {},
     "output_type": "execute_result"
    }
   ],
   "source": [
    "A = [[3, 8], [5, 7], [12, 14], [3, 5], [1, 4], [5, 9], [6, 10], [8, 11], [0, 6], [2, 13], [8, 12]]\n",
    "\n",
    "GreedySubset(A)"
   ]
  },
  {
   "cell_type": "code",
   "execution_count": 254,
   "id": "adopted-knowing",
   "metadata": {},
   "outputs": [],
   "source": [
    "class Item:\n",
    "    def __init__(self, name, value, weight):\n",
    "        self.name = name\n",
    "        self.value = value\n",
    "        self.weight = weight\n",
    "        self.avgCost = value/weight"
   ]
  },
  {
   "cell_type": "code",
   "execution_count": 260,
   "id": "mental-officer",
   "metadata": {},
   "outputs": [],
   "source": [
    "def GreedyKnapsack(itemList, capacity, print_solution=False):\n",
    "    \n",
    "    iterations = 0\n",
    "    valuePicked = 0\n",
    "    \n",
    "    #Insertion Sort\n",
    "    for i in range(0, len(itemList)):\n",
    "        v = itemList[i]\n",
    "        j = i-1\n",
    "        iterations += 1\n",
    "        while j >= 0 and itemList[j].avgCost < v.avgCost:\n",
    "            iterations += 1\n",
    "            itemList[j+1] = itemList[j]\n",
    "            j -= 1\n",
    "        itemList[j+1] = v\n",
    "    \n",
    "    for item in itemList:\n",
    "        iterations += 1\n",
    "        if item.weight <= capacity:\n",
    "            valuePicked = valuePicked + item.value\n",
    "            capacity -= item.weight\n",
    "    \n",
    "    if(print_solution):\n",
    "        print(valuePicked)\n",
    "        \n",
    "    return iterations\n",
    "    \n",
    "def DynamicKnapsack(itemList, capacity, print_solution=False):\n",
    "    \n",
    "    iterations = 0\n",
    "    \n",
    "    K = [[0] * (capacity+1)] * (len(itemList)+1)\n",
    "\n",
    "    for i in range((len(itemList)+1)):\n",
    "        for j in range((capacity)+1):\n",
    "            iterations += 1\n",
    "            if i == 0 or j == 0: # set 0th row and column to 0\n",
    "                K[i][j] = 0\n",
    "            elif itemList[i-1].weight <= j:\n",
    "                K[i][j] = max(itemList[i-1].value + K[i-1][j-itemList[i-1].weight], K[i-1][j]) \n",
    "                K[i][j] = K[i-1][j]\n",
    "     \n",
    "    if(print_solution):\n",
    "        print(K[-1][-1])\n",
    "    \n",
    "    return iterations"
   ]
  },
  {
   "cell_type": "code",
   "execution_count": null,
   "id": "received-planet",
   "metadata": {},
   "outputs": [],
   "source": [
    "itemList = [\n",
    "    Item(\"Item 1\", 3, 40),\n",
    "    Item(\"Item 2\", 5, 50),\n",
    "    Item(\"Item 3\", 1, 20),\n",
    "    Item(\"Item 4\", 2, 10),\n",
    "    Item(\"Item 5\", 4, 30)\n",
    "]\n",
    "\n",
    "capacity = 75\n",
    " \n",
    "DynamicKnapsack(itemList, capacity)\n",
    "GreedyKnapsack(itemList, capacity)"
   ]
  },
  {
   "cell_type": "code",
   "execution_count": 262,
   "id": "hollow-kelly",
   "metadata": {},
   "outputs": [],
   "source": [
    "x = [10, 25, 50, 75, 100] # Different input sizes\n",
    "samples = 100             # Quantity of samples to be averaged\n",
    "greedy_knap = []          # Quantity of iterations - Greedy Knapsack\n",
    "dynamic_knap = []         # Quantity of iterations - Dynamic Knapsack"
   ]
  },
  {
   "cell_type": "code",
   "execution_count": 263,
   "id": "protective-milton",
   "metadata": {},
   "outputs": [],
   "source": [
    "# Calculate the average iterations of all approaches\n",
    "for i in range(len(x)):\n",
    "    \n",
    "    it1, it2 = 0,0\n",
    "    iterations1, iterations2 = 0,0\n",
    "    \n",
    "    for k in range (0,samples):\n",
    "        \n",
    "        itemList = []\n",
    "        itemList2 = []\n",
    "\n",
    "        for j in range(0,x[i]):\n",
    "            value = random.randint(1, x[i])\n",
    "            weight = random.randint(1, x[i])*10\n",
    "            itemList.append(Item(\"x\",value,weight))\n",
    "            itemList2.append(Item(\"x\",value,weight))\n",
    "            \n",
    "        capacity = random.randint(x[i], 2*x[i])*10\n",
    "\n",
    "        iterations1 = GreedyKnapsack(itemList, capacity)       \n",
    "        iterations2 = DynamicKnapsack(itemList2, capacity)\n",
    "\n",
    "        it1 = it1 + iterations1\n",
    "        it2 = it2 + iterations2\n",
    "        \n",
    "    greedy_knap.append(it1/samples)\n",
    "    dynamic_knap.append(it2/samples)"
   ]
  },
  {
   "cell_type": "code",
   "execution_count": 264,
   "id": "particular-prior",
   "metadata": {},
   "outputs": [
    {
     "data": {
      "image/png": "[encoded data removed]",
      "text/plain": [
       "<Figure size 720x576 with 1 Axes>"
      ]
     },
     "metadata": {
      "needs_background": "light"
     },
     "output_type": "display_data"
    }
   ],
   "source": [
    "# Plots the complexity graph\n",
    "plt.figure(figsize=(10, 8))\n",
    "plt.plot(x,greedy_knap, c=\"green\", ls=\"-\", lw = 1, marker=\"o\", label=\"Greedy Knapsack\")\n",
    "plt.plot(x,dynamic_knap, c=\"orange\", ls=\"-\",  lw = 1, marker=\"o\", label=\"Dynamic Knapsack\")\n",
    "plt.title(\"Greedy Knapsack vs Dynamic Knapsack\",fontsize=14)\n",
    "plt.xlabel(\"Input length\",fontsize=14)\n",
    "plt.ylabel(\"Number of iterations\",fontsize=14)\n",
    "plt.legend(fontsize=13)\n",
    "plt.show()"
   ]
  }
 ],
 "metadata": {
  "kernelspec": {
   "display_name": "Python 3",
   "language": "python",
   "name": "python3"
  },
  "language_info": {
   "codemirror_mode": {
    "name": "ipython",
    "version": 3
   },
   "file_extension": ".py",
   "mimetype": "text/x-python",
   "name": "python",
   "nbconvert_exporter": "python",
   "pygments_lexer": "ipython3",
   "version": "3.9.4"
  }
 },
 "nbformat": 4,
 "nbformat_minor": 5
}
