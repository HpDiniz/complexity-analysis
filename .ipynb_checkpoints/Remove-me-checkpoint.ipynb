{
 "cells": [
  {
   "cell_type": "markdown",
   "id": "extensive-prefix",
   "metadata": {},
   "source": [
    "<h3>Hamiltonian Cycle Problem</h3>\n",
    "<p> A Hamiltonian cycle is a closed loop on a graph where every node (vertex) is visited exactly once.\n",
    "    A loop is just an edge that joins a node to itself; so a Hamiltonian cycle is a path traveling from a point back to itself, visiting every node en route. <br>\n",
    "    So the problem is: Given a graph G, is there a Hamilton cycle ?\n",
    "</p>"
   ]
  },
  {
   "cell_type": "code",
   "execution_count": 60,
   "id": "armed-heather",
   "metadata": {},
   "outputs": [],
   "source": [
    "import numpy as np\n",
    "import random as rnd\n",
    "import networkx as nx\n",
    "import matplotlib.pyplot as plt\n",
    "from collections import defaultdict\n",
    "from numpy import random"
   ]
  },
  {
   "cell_type": "code",
   "execution_count": 61,
   "id": "ignored-aviation",
   "metadata": {},
   "outputs": [],
   "source": [
    "def printAllHamiltonianPaths(G, n, visited, path, vertex):\n",
    "    \n",
    "    if len(path) == n:\n",
    "        return True\n",
    "    \n",
    "    # Check if every edge starting from vertex `v` leads to a solution or not    \n",
    "    for w in GetAdjacents(G,vertex):\n",
    "        if not visited[w]:\n",
    "            visited[w] = True\n",
    "            path.append(w)\n",
    " \n",
    "            # check if adding vertex `w` to the path leads to the solution or not\n",
    "            if printAllHamiltonianPaths(G, n, visited, path, w):\n",
    "                return True\n",
    " \n",
    "            # backtrack\n",
    "            visited[w] = False\n",
    "            path.pop()\n",
    "            \n",
    "    return False\n",
    "\n",
    "def HamiltonianCycle(G, n, v, currPos = 0, count = 1):\n",
    "    \n",
    "    print(str(count) + \" - \" + str(n))\n",
    "    \n",
    "    if (count == n and (currPos,0) in G.edges(currPos)):\n",
    "        return True\n",
    " \n",
    "    for i in range(n):\n",
    "        if (v[i] == False and (currPos,i) in G.edges(currPos)):\n",
    "            \n",
    "            v[i] = True\n",
    "            found = HamiltonianCycle(G, n, v, i, count + 1)\n",
    "            \n",
    "            if found:\n",
    "                return True\n",
    "            \n",
    "            v[i] = False\n",
    "            \n",
    "    return False\n",
    "\n",
    "def DeterministicHamiltonianCycle(G):\n",
    "\n",
    "    n = len(G.nodes())\n",
    "    for node in G.nodes:\n",
    "        start_vertex = node\n",
    "        visited = [False for i in range(n)]\n",
    "        visited[start_vertex] = True \n",
    "        path = [start_vertex]\n",
    "        if printAllHamiltonianPaths(G, n, visited, path, start_vertex):\n",
    "            return True\n",
    " \n",
    "    return False\n",
    "\n",
    "#     return(HamiltonianCycle(G, n, v))\n",
    "\n",
    "def NonDeterministicHamiltonian(G):\n",
    "    \n",
    "    picked = []\n",
    "    \n",
    "    for i in G.nodes:\n",
    "        edge = rnd.choice(list(G.edges(i)))\n",
    "        picked.append(edge)\n",
    "        \n",
    "    return(CheckHamiltonPath(picked,G.nodes()))\n",
    "\n",
    "def CheckHamiltonPath(ans, nodes):\n",
    "    \n",
    "    if len(ans) < 1:\n",
    "        return False\n",
    "    \n",
    "    path = [ans[0]]\n",
    "    \n",
    "    for i in range (1, len(ans)):\n",
    "        for j in range(i, len(ans)):\n",
    "            if ans[i] not in path:\n",
    "                if ans[i][0] == path[-1][0] or ans[i][0] == path[-1][1]:\n",
    "                    path.append(ans[i])\n",
    "                elif ans[i][1] == path[-1][0] or ans[i][1] == path[-1][1]:\n",
    "                    path.append(ans[i])\n",
    "    \n",
    "    print(path)\n",
    "    if(len(path) != len(ans)):\n",
    "        return False\n",
    "    \n",
    "    times_visited = {}\n",
    "    for z in nodes:\n",
    "        times_visited[z] = 0\n",
    "\n",
    "    for i in range (0, len(path)):\n",
    "        times_visited[path[i][0]]+=1\n",
    "        times_visited[path[i][1]]+=1\n",
    "        if times_visited[path[i][0]] > 2 or times_visited[path[i][1]] > 2:\n",
    "            return False\n",
    "                \n",
    "    return True\n",
    "\n",
    "def CheckHamiltonCycle(ans, nodes):\n",
    "    \n",
    "    if len(ans) < 1:\n",
    "        return False\n",
    "    \n",
    "    path = [ans[0]]\n",
    "    \n",
    "    for i in range (1, len(ans)):\n",
    "        for j in range(i, len(ans)):\n",
    "            if ans[i] not in path:\n",
    "                if ans[i][0] == path[-1][0] or ans[i][0] == path[-1][1]:\n",
    "                    path.append(ans[i])\n",
    "                elif ans[i][1] == path[-1][0] or ans[i][1] == path[-1][1]:\n",
    "                    path.append(ans[i])\n",
    "    \n",
    "    return path\n",
    "    if(len(path) != len(ans)):\n",
    "        return False\n",
    "    \n",
    "    times_visited = {}\n",
    "    for z in nodes:\n",
    "        times_visited[z] = 0\n",
    "\n",
    "    for i in range (0, len(path)):\n",
    "        times_visited[path[i][0]]+=1\n",
    "        times_visited[path[i][1]]+=1\n",
    "        if times_visited[path[i][0]] > 2 or times_visited[path[i][1]] > 2:\n",
    "            return False\n",
    "                \n",
    "    return True\n",
    "\n",
    "def GetAdjacents(G,vertex):\n",
    "    adjacents = []\n",
    "    for i in G.edges():\n",
    "        if i[0] == vertex:\n",
    "            adjacents.append(i[1])\n",
    "        elif i[1] == vertex:\n",
    "            adjacents.append(i[0])\n",
    "    return adjacents\n",
    "\n",
    "def PrintGraph(G,re,rn,be,bn):\n",
    "    \n",
    "    node_pos=nx.get_node_attributes(G,'pos')\n",
    "    arc_weight=nx.get_edge_attributes(G,'weight')\n",
    "\n",
    "    nx.draw_networkx_nodes(G, node_pos, nodelist=rn, cmap=plt.get_cmap('jet'),node_color = \"#FF9A00\", node_size = 500)\n",
    "    nx.draw_networkx_nodes(G, node_pos, nodelist=bn, cmap=plt.get_cmap('jet'),node_color = \"#FF9A00\", node_size = 500)\n",
    "    nx.draw_networkx_labels(G, node_pos)\n",
    "    nx.draw_networkx_edges(G, node_pos, edgelist=re, edge_color='#FF9A00', arrows=False)\n",
    "    nx.draw_networkx_edges(G, node_pos, edgelist=be, arrows=False)\n",
    "    nx.draw_networkx_edge_labels(G, node_pos, edge_labels=arc_weight)\n",
    "    plt.axis('off')\n",
    "    plt.show()"
   ]
  },
  {
   "cell_type": "code",
   "execution_count": 62,
   "id": "secret-rebound",
   "metadata": {},
   "outputs": [
    {
     "data": {
      "image/png": "[encoded data removed]",
      "text/plain": [
       "<Figure size 432x288 with 1 Axes>"
      ]
     },
     "metadata": {},
     "output_type": "display_data"
    }
   ],
   "source": [
    "G=nx.DiGraph()\n",
    "\n",
    "G.add_node(0,pos=(0,0))\n",
    "G.add_node(1,pos=(-1,-1))\n",
    "G.add_node(2,pos=(0,-0.7))\n",
    "G.add_node(3,pos=(1,-1))\n",
    "\n",
    "list_arcs = [(0, 1),(0, 2),(0, 3),(1, 0),(1, 2),(1, 3),(2, 0),(2, 1),(2, 3),(3, 0),(3, 1),(3, 2)]\n",
    "G.add_edges_from(list_arcs)\n",
    "\n",
    "PrintGraph(G,G.edges(),G.nodes(),G.edges(),G.nodes())"
   ]
  },
  {
   "cell_type": "code",
   "execution_count": 63,
   "id": "mexican-affect",
   "metadata": {},
   "outputs": [
    {
     "name": "stdout",
     "output_type": "stream",
     "text": [
      "Deterministc algorithm: True\n",
      "[(0, 3), (2, 3), (3, 1)]\n",
      "Nondeterministc algorithm: False\n"
     ]
    }
   ],
   "source": [
    "print(\"Deterministc algorithm: \" + str(DeterministicHamiltonianCycle(G)))\n",
    "print(\"Nondeterministc algorithm: \" + str(NonDeterministicHamiltonian(G)))"
   ]
  },
  {
   "cell_type": "code",
   "execution_count": 51,
   "id": "quick-table",
   "metadata": {},
   "outputs": [
    {
     "data": {
      "image/png": "[encoded data removed]",
      "text/plain": [
       "<Figure size 432x288 with 1 Axes>"
      ]
     },
     "metadata": {},
     "output_type": "display_data"
    }
   ],
   "source": [
    "G2=nx.DiGraph()\n",
    "\n",
    "G2.add_node(0,pos=(0,0))\n",
    "G2.add_node(1,pos=(-1,-1))\n",
    "G2.add_node(2,pos=(1,-1))\n",
    "\n",
    "list_arcs = [(0, 1),(0, 2),(1, 2)]\n",
    "G2.add_edges_from(list_arcs)\n",
    "\n",
    "PrintGraph(G2,G2.edges(),G2.nodes(),G2.edges(),G2.nodes())"
   ]
  },
  {
   "cell_type": "code",
   "execution_count": 52,
   "id": "extra-introduction",
   "metadata": {},
   "outputs": [
    {
     "name": "stdout",
     "output_type": "stream",
     "text": [
      "Deterministc algorithm: True\n"
     ]
    }
   ],
   "source": [
    "print(\"Deterministc algorithm: \" + str(DeterministicHamiltonianCycle(G2)))\n",
    "#print(\"Nondeterministc algorithm: \" + str(NonDeterministicHamiltonian(G2)))"
   ]
  },
  {
   "cell_type": "code",
   "execution_count": 55,
   "id": "round-password",
   "metadata": {
    "scrolled": true
   },
   "outputs": [
    {
     "data": {
      "image/png": "[encoded data removed]",
      "text/plain": [
       "<Figure size 432x288 with 1 Axes>"
      ]
     },
     "metadata": {},
     "output_type": "display_data"
    }
   ],
   "source": [
    "G3=nx.DiGraph()\n",
    "\n",
    "G3.add_node(0,pos=(0,0))\n",
    "G3.add_node(1,pos=(-1,-1))\n",
    "G3.add_node(2,pos=(1,-1))\n",
    "G3.add_node(3,pos=(-1,-2))\n",
    "G3.add_node(4,pos=(1,-2))\n",
    "G3.add_node(5,pos=(0,-1))\n",
    "G3.add_node(6,pos=(0,-2))\n",
    "\n",
    "list_arcs = [(0, 1),(0, 2),(0,5),(1,3),(2,4),(5,6)]\n",
    "G3.add_edges_from(list_arcs)\n",
    "\n",
    "PrintGraph(G3,G3.edges(),G3.nodes(),G3.edges(),G3.nodes())"
   ]
  },
  {
   "cell_type": "code",
   "execution_count": 56,
   "id": "conventional-competition",
   "metadata": {},
   "outputs": [
    {
     "name": "stdout",
     "output_type": "stream",
     "text": [
      "Deterministc algorithm: False\n"
     ]
    }
   ],
   "source": [
    "print(\"Deterministc algorithm: \" + str(DeterministicHamiltonianCycle(G3)))\n",
    "#print(\"Nondeterministc algorithm: \" + str(NonDeterministicHamiltonian(G3)))"
   ]
  },
  {
   "cell_type": "code",
   "execution_count": null,
   "id": "occupational-repository",
   "metadata": {},
   "outputs": [],
   "source": []
  }
 ],
 "metadata": {
  "kernelspec": {
   "display_name": "Python 3",
   "language": "python",
   "name": "python3"
  },
  "language_info": {
   "codemirror_mode": {
    "name": "ipython",
    "version": 3
   },
   "file_extension": ".py",
   "mimetype": "text/x-python",
   "name": "python",
   "nbconvert_exporter": "python",
   "pygments_lexer": "ipython3",
   "version": "3.9.4"
  }
 },
 "nbformat": 4,
 "nbformat_minor": 5
}
