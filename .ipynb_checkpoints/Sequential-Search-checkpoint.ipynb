{
 "cells": [
  {
   "cell_type": "code",
   "execution_count": 5,
   "id": "inner-david",
   "metadata": {},
   "outputs": [],
   "source": [
    "# Retorna a quantidade de iterações necessárias para encontrar o elemento\n",
    "def searchIterations(arr, x):\n",
    "    for i in range (0,len(arr)):\n",
    "        if (arr[i] == x):\n",
    "            return (i+1);\n",
    "    return len(arr);\n"
   ]
  },
  {
   "cell_type": "code",
   "execution_count": 6,
   "id": "rural-communist",
   "metadata": {},
   "outputs": [
    {
     "name": "stdout",
     "output_type": "stream",
     "text": [
      "{'10': 6.3, '25': 17.3, '50': 24.2, '100': 56.5, '200': 110.7, '500': 252.9}\n"
     ]
    }
   ],
   "source": [
    "import random\n",
    "\n",
    "tests = []\n",
    "values = {}\n",
    "samples = 10\n",
    "\n",
    "possibilites = [10, 25, 50, 100, 200, 500]\n",
    "for i in possibilites:\n",
    "    summation = 0\n",
    "    for j in range (0,samples):\n",
    "        data = random.sample(range(0, i), i)\n",
    "        n = random.randint(0,i-1)\n",
    "        iterations = searchIterations(data,n)\n",
    "        summation = summation + iterations\n",
    "    values[str(i)] = summation/samples\n",
    "\n",
    "print(values)"
   ]
  },
  {
   "cell_type": "code",
   "execution_count": 63,
   "id": "refined-flavor",
   "metadata": {},
   "outputs": [
    {
     "name": "stdout",
     "output_type": "stream",
     "text": [
      "Length: 10, iterations: 9\n",
      "Length: 10, iterations: 7\n",
      "Length: 10, iterations: 7\n",
      "Length: 10, iterations: 6\n",
      "Length: 10, iterations: 3\n",
      "Length: 10, iterations: 5\n",
      "Length: 10, iterations: 4\n",
      "Length: 10, iterations: 1\n",
      "Length: 10, iterations: 8\n",
      "Length: 10, iterations: 4\n",
      "Length: 25, iterations: 4\n",
      "Length: 25, iterations: 7\n",
      "Length: 25, iterations: 11\n",
      "Length: 25, iterations: 25\n",
      "Length: 25, iterations: 1\n",
      "Length: 25, iterations: 12\n",
      "Length: 25, iterations: 13\n",
      "Length: 25, iterations: 9\n",
      "Length: 25, iterations: 23\n",
      "Length: 25, iterations: 24\n",
      "Length: 50, iterations: 12\n",
      "Length: 50, iterations: 8\n",
      "Length: 50, iterations: 50\n",
      "Length: 50, iterations: 33\n",
      "Length: 50, iterations: 38\n",
      "Length: 50, iterations: 12\n",
      "Length: 50, iterations: 16\n",
      "Length: 50, iterations: 24\n",
      "Length: 50, iterations: 35\n",
      "Length: 50, iterations: 41\n",
      "Length: 100, iterations: 19\n",
      "Length: 100, iterations: 11\n",
      "Length: 100, iterations: 52\n",
      "Length: 100, iterations: 55\n",
      "Length: 100, iterations: 67\n",
      "Length: 100, iterations: 57\n",
      "Length: 100, iterations: 67\n",
      "Length: 100, iterations: 13\n",
      "Length: 100, iterations: 63\n",
      "Length: 100, iterations: 39\n",
      "Length: 200, iterations: 130\n",
      "Length: 200, iterations: 147\n",
      "Length: 200, iterations: 121\n",
      "Length: 200, iterations: 153\n",
      "Length: 200, iterations: 101\n",
      "Length: 200, iterations: 168\n",
      "Length: 200, iterations: 13\n",
      "Length: 200, iterations: 164\n",
      "Length: 200, iterations: 188\n",
      "Length: 200, iterations: 49\n",
      "Length: 500, iterations: 179\n",
      "Length: 500, iterations: 16\n",
      "Length: 500, iterations: 80\n",
      "Length: 500, iterations: 468\n",
      "Length: 500, iterations: 323\n",
      "Length: 500, iterations: 119\n",
      "Length: 500, iterations: 488\n",
      "Length: 500, iterations: 221\n",
      "Length: 500, iterations: 148\n",
      "Length: 500, iterations: 117\n"
     ]
    }
   ],
   "source": [
    "for test in tests:\n",
    "    test.printf()"
   ]
  },
  {
   "cell_type": "code",
   "execution_count": null,
   "id": "informed-crown",
   "metadata": {},
   "outputs": [],
   "source": []
  }
 ],
 "metadata": {
  "kernelspec": {
   "display_name": "Python 3",
   "language": "python",
   "name": "python3"
  },
  "language_info": {
   "codemirror_mode": {
    "name": "ipython",
    "version": 3
   },
   "file_extension": ".py",
   "mimetype": "text/x-python",
   "name": "python",
   "nbconvert_exporter": "python",
   "pygments_lexer": "ipython3",
   "version": "3.9.4"
  }
 },
 "nbformat": 4,
 "nbformat_minor": 5
}
