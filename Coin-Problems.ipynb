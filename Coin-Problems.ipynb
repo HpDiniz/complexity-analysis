{
 "cells": [
  {
   "cell_type": "code",
   "execution_count": 1,
   "id": "early-missile",
   "metadata": {},
   "outputs": [],
   "source": [
    "import numpy as np\n",
    "import matplotlib.pyplot as plt\n",
    "import random\n",
    "from random import sample"
   ]
  },
  {
   "cell_type": "code",
   "execution_count": 2,
   "id": "completed-genealogy",
   "metadata": {},
   "outputs": [],
   "source": [
    "# Returns a set after binary mapping\n",
    "def GetSet(w, x):\n",
    "    setW = []\n",
    "    for i in range(0,len(x)):\n",
    "        if x[i] == 1:\n",
    "            setW.append(w[i])\n",
    "    return setW\n",
    "\n",
    "# Get the solution of coin row problem\n",
    "def CoinRow(C):\n",
    "\n",
    "    C = [0] + C\n",
    "    n = len(C) \n",
    "    F = np.zeros(n, dtype=int)\n",
    "    pick = np.zeros(n, dtype=int)\n",
    "    \n",
    "    F[1] = C[1]\n",
    "    pick[1] = 1\n",
    "    \n",
    "    for i in range(2,n):\n",
    "        if C[i] + F[i-2] > F[i-1]:\n",
    "            F[i] = C[i] + F[i-2]\n",
    "            pick[i] = 1\n",
    "            pick[i-1] = 0\n",
    "        else:\n",
    "            F[i] = F[i-1]\n",
    "            pick[i-1] = 1\n",
    "            pick[i-2] = 0\n",
    "    \n",
    "    for i in range(1,len(pick)-1):\n",
    "        if(pick[i-1] == 0 and pick [i+1] == 0):\n",
    "            pick[i] = 1\n",
    "        \n",
    "    print(GetSet(C,pick))\n",
    "    print(F[-1])\n",
    "\n",
    "#Change Making problem with Dynamic programming solution\n",
    "def DynamicChangeMaking(D, n, print_text = False):\n",
    "    \n",
    "    F = [0] + [float('inf')] * n\n",
    "    \n",
    "    iterations = 0\n",
    "\n",
    "    for i in range(len(D)):\n",
    "        for j in range(D[i],n+1):\n",
    "            iterations += 1\n",
    "            if F[j-D[i]]+1 < F[j]: \n",
    "                F[j] = F[j-D[i]] + 1 \n",
    "    \n",
    "    if print_text:\n",
    "        print(\"The minimum amount of coins is: \" + str(F[-1]))\n",
    "        \n",
    "    return iterations\n",
    "\n",
    "#Change Making problem with a greedy solution\n",
    "def GreedyChangeMaking(D, n, print_text = False):\n",
    "    \n",
    "    coins = []\n",
    "    \n",
    "    iterations = 0\n",
    "    \n",
    "    for i in range(len(D)-1, -1, -1):\n",
    "        iterations += 1\n",
    "        while n - D[i] >= 0:\n",
    "            coins.append(D[i])\n",
    "            n = n - D[i]\n",
    "    \n",
    "    if print_text:\n",
    "        print(coins)\n",
    "        print(\"The minimum amount of coins is: \" + str(len(coins)))\n",
    "        \n",
    "    return iterations"
   ]
  },
  {
   "cell_type": "code",
   "execution_count": 3,
   "id": "fantastic-physics",
   "metadata": {},
   "outputs": [
    {
     "name": "stdout",
     "output_type": "stream",
     "text": [
      "[1, 5, 20, 2, 5, 2]\n",
      "35\n"
     ]
    }
   ],
   "source": [
    "c = [1,2,5,10,20,1,2,3,5,4,2]\n",
    "CoinRow(c)"
   ]
  },
  {
   "cell_type": "code",
   "execution_count": 4,
   "id": "german-particle",
   "metadata": {},
   "outputs": [
    {
     "name": "stdout",
     "output_type": "stream",
     "text": [
      "[5, 5, 5, 2]\n",
      "The minimum amount of coins is: 4\n"
     ]
    },
    {
     "data": {
      "text/plain": [
       "3"
      ]
     },
     "execution_count": 4,
     "metadata": {},
     "output_type": "execute_result"
    }
   ],
   "source": [
    "c = [1,2,5]\n",
    "GreedyChangeMaking(c, 17, True)"
   ]
  },
  {
   "cell_type": "code",
   "execution_count": 5,
   "id": "chinese-cookie",
   "metadata": {},
   "outputs": [
    {
     "name": "stdout",
     "output_type": "stream",
     "text": [
      "The minimum amount of coins is: 4\n"
     ]
    },
    {
     "data": {
      "text/plain": [
       "46"
      ]
     },
     "execution_count": 5,
     "metadata": {},
     "output_type": "execute_result"
    }
   ],
   "source": [
    "c = [1,2,5]\n",
    "DynamicChangeMaking(c, 17, True)"
   ]
  },
  {
   "cell_type": "code",
   "execution_count": 6,
   "id": "demonstrated-beginning",
   "metadata": {},
   "outputs": [],
   "source": [
    "samples = 100                        # Quantity of samples to be averaged\n",
    "x = [10, 20, 30, 40, 50]             # Different input sizes\n",
    "dynamic_change = []                  # Quantity of iterations - Dynamic Change making\n",
    "greedy_change = []                   # Quantity of iterations - Simple Change making\n",
    "Coin_row = [1,2,5,10,20,1,2,3,5,4,2] # Array for Coin Row problem\n",
    "Changes = [1,2,5]                    # Array of changes for Change Making problem"
   ]
  },
  {
   "cell_type": "code",
   "execution_count": 7,
   "id": "framed-animal",
   "metadata": {},
   "outputs": [],
   "source": [
    "# Calculate the iterations of all approaches\n",
    "for i in range(len(x)):\n",
    "    \n",
    "    it1, it2 = 0,0\n",
    "    \n",
    "    for j in range (1,samples):\n",
    "        \n",
    "        data = random.sample(range(0, x[i]*3), x[i]+1)\n",
    "        data.sort()\n",
    "        data = [1] + data[2:]\n",
    "        \n",
    "        it1 = it1 + DynamicChangeMaking(data, random.randint(x[i]*5,x[i]*100))\n",
    "        it2 = it2 + GreedyChangeMaking(data, random.randint(x[i]*5,x[i]*100))\n",
    "        \n",
    "    dynamic_change.append(it1/samples)\n",
    "    greedy_change.append(it2/samples)"
   ]
  },
  {
   "cell_type": "code",
   "execution_count": 9,
   "id": "equipped-dispatch",
   "metadata": {},
   "outputs": [
    {
     "data": {
      "image/png": "[encoded data removed]",
      "text/plain": [
       "<Figure size 720x576 with 1 Axes>"
      ]
     },
     "metadata": {
      "needs_background": "light"
     },
     "output_type": "display_data"
    }
   ],
   "source": [
    "# Plots the complexity graph\n",
    "plt.figure(figsize=(10, 8))\n",
    "plt.plot(x,dynamic_change, c=\"orange\", ls=\"-\", lw = 1, marker=\"o\", label=\"Dynamic Change making\")\n",
    "plt.plot(x,greedy_change, c=\"green\", ls=\"-\",  lw = 1, marker=\"o\", label=\"Simple Change making\")\n",
    "plt.title(\"Dynamic Change making vs Simple Change making\",fontsize=14)\n",
    "plt.xlabel(\"Input length\",fontsize=14)\n",
    "plt.ylabel(\"Number of iterations\",fontsize=14)\n",
    "plt.legend(fontsize=13)\n",
    "plt.show()"
   ]
  }
 ],
 "metadata": {
  "kernelspec": {
   "display_name": "Python 3",
   "language": "python",
   "name": "python3"
  },
  "language_info": {
   "codemirror_mode": {
    "name": "ipython",
    "version": 3
   },
   "file_extension": ".py",
   "mimetype": "text/x-python",
   "name": "python",
   "nbconvert_exporter": "python",
   "pygments_lexer": "ipython3",
   "version": "3.9.4"
  }
 },
 "nbformat": 4,
 "nbformat_minor": 5
}
