{
 "cells": [
  {
   "cell_type": "markdown",
   "id": "extensive-prefix",
   "metadata": {},
   "source": [
    "<h3>Maximum Subarray Sum Problem</h3>\n",
    "<p> Given a one dimensional array that may contain both positive and negative integers, find the sum of contiguous subarray of numbers which has the largest sum. For example, if the given array is { -2, -5, 6, -2, -3, 1, 5, -6 }, then the maximum subarray sum is 7, with the subarray { 6, -2, -3, 1, 5 }\n",
    "</p>"
   ]
  },
  {
   "cell_type": "code",
   "execution_count": 135,
   "id": "armed-heather",
   "metadata": {},
   "outputs": [],
   "source": [
    "import numpy as np\n",
    "import random as rnd\n",
    "import networkx as nx\n",
    "import matplotlib.pyplot as plt\n",
    "from collections import defaultdict\n",
    "from numpy import random"
   ]
  },
  {
   "cell_type": "code",
   "execution_count": 136,
   "id": "departmental-ghost",
   "metadata": {},
   "outputs": [],
   "source": [
    "def maxCrossingSum(arr, l, m, h, iterations):\n",
    " \n",
    "    sm = 0\n",
    "    left_sum = float(\"-inf\")\n",
    " \n",
    "    for i in range(m, l-1, -1):\n",
    "        iterations[0]+=1\n",
    "        sm = sm + arr[i]\n",
    "        if (sm > left_sum):\n",
    "            left_sum = sm\n",
    " \n",
    "    sm = 0\n",
    "    right_sum = float(\"-inf\")\n",
    "    for i in range(m + 1, h + 1):\n",
    "        iterations[0]+=1\n",
    "        sm = sm + arr[i]\n",
    "        if (sm > right_sum):\n",
    "            right_sum = sm\n",
    " \n",
    "    return max(left_sum + right_sum, left_sum, right_sum)\n",
    " \n",
    "def maxSubArraySum(arr, l, h, iterations):\n",
    "     \n",
    "    iterations[0]+=1\n",
    "    if (l == h):\n",
    "        return arr[l]\n",
    " \n",
    "    m = (l + h) // 2\n",
    "    \n",
    "    left = maxSubArraySum(arr, l, m, iterations)\n",
    "    right = maxSubArraySum(arr, m+1, h, iterations)\n",
    "    greater = maxCrossingSum(arr, l, m, h, iterations)\n",
    "    \n",
    "    if left > greater:\n",
    "        greater = left\n",
    "    if right > greater:\n",
    "        greater = right\n",
    "        \n",
    "    return greater\n",
    "\n",
    "def DivideAndConquerMaxSubarray(arr):\n",
    "    \n",
    "    iterations = [0]\n",
    "    max_sum = maxSubArraySum(arr, 0, len(arr)-1, iterations)\n",
    "    \n",
    "    return max_sum, iterations[0]\n",
    "    "
   ]
  },
  {
   "cell_type": "code",
   "execution_count": 137,
   "id": "acquired-cisco",
   "metadata": {},
   "outputs": [],
   "source": [
    "def BruteForceMaxSubarray(arr):\n",
    "    \n",
    "    iterations = 0\n",
    "    maximum = float(\"-inf\")\n",
    "    \n",
    "    for i in range(0,len(arr)):\n",
    "        iterations+=1\n",
    "        total_sum = 0;\n",
    "        \n",
    "        for j in range(i,len(arr)):\n",
    "            iterations+=1\n",
    "            total_sum += arr[j]           \n",
    "            if (total_sum > maximum ):\n",
    "                maximum = total_sum\n",
    "                        \n",
    "    return maximum, iterations"
   ]
  },
  {
   "cell_type": "code",
   "execution_count": 138,
   "id": "mobile-kernel",
   "metadata": {},
   "outputs": [
    {
     "name": "stdout",
     "output_type": "stream",
     "text": [
      "Maximum sum:  45\n",
      "Iterations:  95\n"
     ]
    }
   ],
   "source": [
    "arr = [-1,8,-3,5,-4,-5,-20,30,5,6,-2,6,-70,5,25,-5]\n",
    "\n",
    "max_sum, it = DivideAndConquerMaxSubarray(arr)\n",
    "print(\"Maximum sum: \", max_sum)\n",
    "print(\"Iterations: \", iterations[0])"
   ]
  },
  {
   "cell_type": "code",
   "execution_count": 139,
   "id": "white-vatican",
   "metadata": {},
   "outputs": [
    {
     "name": "stdout",
     "output_type": "stream",
     "text": [
      "Maximum sum:  45\n",
      "Iterations:  152\n"
     ]
    }
   ],
   "source": [
    "arr = [-1,8,-3,5,-4,-5,-20,30,5,6,-2,6,-70,5,25,-5]\n",
    "\n",
    "max_sum, it = BruteForceMaxSubarray(arr)\n",
    "print(\"Maximum sum: \", max_sum)\n",
    "print(\"Iterations: \", it)"
   ]
  },
  {
   "cell_type": "code",
   "execution_count": 140,
   "id": "federal-niagara",
   "metadata": {},
   "outputs": [],
   "source": [
    "x = [10, 25, 50, 100, 200, 500] # Different input sizes\n",
    "samples = 100                   # Quantity of samples to be averaged\n",
    "divide_conquer = []             # Quantity of iterations - Divide and conquer approach\n",
    "brute_force = []                # Quantity of iterations - Brute force approach"
   ]
  },
  {
   "cell_type": "code",
   "execution_count": 141,
   "id": "square-census",
   "metadata": {},
   "outputs": [],
   "source": [
    "# Calculate the average iterations of all approaches\n",
    "for i in range(len(x)):\n",
    "    \n",
    "    it1, it2 = 0,0\n",
    "    iterations1, iterations2 = 0,0\n",
    "    \n",
    "    for k in range (0,samples):\n",
    "        \n",
    "        array1 = np.random.randint(-100, 100, size=(x[i]))\n",
    "        array2 = array1.copy()\n",
    "        \n",
    "        max_sum1, iterations1 = BruteForceMaxSubarray(array1)\n",
    "        max_sum2, iterations2 = DivideAndConquerMaxSubarray(array2)\n",
    "        \n",
    "        it1 = it1 + iterations1\n",
    "        it2 = it2 + iterations2\n",
    "    \n",
    "    brute_force.append(it1/samples)\n",
    "    divide_conquer.append(it2/samples)"
   ]
  },
  {
   "cell_type": "code",
   "execution_count": 142,
   "id": "impressed-quantity",
   "metadata": {},
   "outputs": [
    {
     "data": {
      "image/png": "[encoded data removed]",
      "text/plain": [
       "<Figure size 720x576 with 1 Axes>"
      ]
     },
     "metadata": {
      "needs_background": "light"
     },
     "output_type": "display_data"
    }
   ],
   "source": [
    "# Plots the complexity graph\n",
    "plt.figure(figsize=(10, 8))\n",
    "plt.plot(x,divide_conquer, c=\"green\", ls=\"-\", lw = 1, marker=\"o\", label=\"Divide and Conquer\")\n",
    "plt.plot(x,brute_force, c=\"orange\", ls=\"-\",  lw = 1, marker=\"o\", label=\"Brute Force\")\n",
    "plt.title(\"Divide and Conquer vs Brute Force\",fontsize=14)\n",
    "plt.xlabel(\"Input length\",fontsize=14)\n",
    "plt.ylabel(\"Number of iterations\",fontsize=14)\n",
    "plt.legend(fontsize=13)\n",
    "plt.show()"
   ]
  }
 ],
 "metadata": {
  "kernelspec": {
   "display_name": "Python 3",
   "language": "python",
   "name": "python3"
  },
  "language_info": {
   "codemirror_mode": {
    "name": "ipython",
    "version": 3
   },
   "file_extension": ".py",
   "mimetype": "text/x-python",
   "name": "python",
   "nbconvert_exporter": "python",
   "pygments_lexer": "ipython3",
   "version": "3.9.4"
  }
 },
 "nbformat": 4,
 "nbformat_minor": 5
}
