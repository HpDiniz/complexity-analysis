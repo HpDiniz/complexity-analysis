{
 "cells": [
  {
   "cell_type": "markdown",
   "id": "extensive-prefix",
   "metadata": {},
   "source": [
    "<h3>Catalan Number Problem</h3>\n",
    "<p> Catalan numbers are a sequence of natural numbers that occurs in many interesting counting problems. One example is: <br>\n",
    "    The number of expressions containing n pairs of parentheses which are correctly matched. <br><br>\n",
    "    For n = 3, all possible expressions are: <br> \n",
    "    <ul>\n",
    "        <li>((()))</li>\n",
    "        <li>()(())</li>\n",
    "        <li>()()()</li>\n",
    "        <li>(())()</li>\n",
    "        <li>(()())</li>\n",
    "    </ul><br>\n",
    "    To calculate that, we have two base cases, C(0) = 1 and C(1) = 1, then: <br>\n",
    "    \n",
    "    C(2) = C(0)*C(1) + C(1)*C(0)\n",
    "    C(3) = C(0)*C(2) + C(1)*C(1) + C(2)*C(0)\n",
    "    C(4) = C(0)*C(3) + C(1)*C(2) + C(2)*C(1) + C3)*C(0)\n",
    "    C(n) = C(0)*C(n-1) + C(1)*C(n-2) + ... C(n-2)*C(1) + C(n-1)*C(0)\n",
    "</p>"
   ]
  },
  {
   "cell_type": "code",
   "execution_count": 1,
   "id": "armed-heather",
   "metadata": {},
   "outputs": [],
   "source": [
    "import numpy as np\n",
    "import networkx as nx\n",
    "import matplotlib.pyplot as plt\n",
    "from collections import defaultdict\n",
    "from numpy import random"
   ]
  },
  {
   "cell_type": "code",
   "execution_count": 2,
   "id": "ignored-aviation",
   "metadata": {},
   "outputs": [],
   "source": [
    "def BruteCatalan(n,iterations):\n",
    "    \n",
    "    iterations[0] += 1\n",
    "    if n <= 1:\n",
    "        return 1\n",
    " \n",
    "    catalan = 0\n",
    "    for i in range(n):\n",
    "        catalan += BruteCatalan(i,iterations) * BruteCatalan(n-i-1,iterations)\n",
    " \n",
    "    return catalan\n",
    "\n",
    "def DynamicCatalan(n,iterations):\n",
    "    \n",
    "    if (n <= 1):\n",
    "        return 1\n",
    " \n",
    "    catalan_table = np.zeros(n+1, dtype=int)\n",
    " \n",
    "    catalan_table[0] = 1\n",
    "    catalan_table[1] = 1\n",
    " \n",
    "    for i in range(2, n + 1):\n",
    "        iterations[0] += 1\n",
    "        for j in range(i):\n",
    "            iterations[0] += 1\n",
    "            catalan_table[i] += catalan_table[j]* catalan_table[i-j-1]\n",
    " \n",
    "    return catalan_table[n]\n",
    "    \n",
    "def FindCatalan(n,method):\n",
    "    sequence = []\n",
    "    iterations = [0]\n",
    "    for i in range(n):\n",
    "        if(method == \"Brute\"):\n",
    "            sequence.append(BruteCatalan(i,iterations))\n",
    "        else:\n",
    "            sequence.append(DynamicCatalan(i,iterations))\n",
    "    #print(sequence)\n",
    "    return iterations[0]"
   ]
  },
  {
   "cell_type": "code",
   "execution_count": 3,
   "id": "frozen-canal",
   "metadata": {},
   "outputs": [
    {
     "data": {
      "text/plain": [
       "16402"
      ]
     },
     "execution_count": 3,
     "metadata": {},
     "output_type": "execute_result"
    }
   ],
   "source": [
    "FindCatalan(10,\"Brute\")"
   ]
  },
  {
   "cell_type": "code",
   "execution_count": 4,
   "id": "sustained-lover",
   "metadata": {},
   "outputs": [
    {
     "data": {
      "text/plain": [
       "192"
      ]
     },
     "execution_count": 4,
     "metadata": {},
     "output_type": "execute_result"
    }
   ],
   "source": [
    "FindCatalan(10,\"Dynamic\")"
   ]
  },
  {
   "cell_type": "code",
   "execution_count": 16,
   "id": "moved-favor",
   "metadata": {},
   "outputs": [],
   "source": [
    "x = [5,6,7,8,9,10] # Different inputs\n",
    "samples = 100             # Quantity of samples to be averaged\n",
    "dynamic_prog = []        # Quantity of iterations - Divide and conquer approach\n",
    "brute_force = []         # Quantity of iterations - Brute force approach"
   ]
  },
  {
   "cell_type": "code",
   "execution_count": 17,
   "id": "anticipated-opportunity",
   "metadata": {},
   "outputs": [],
   "source": [
    "# Calculate the average iterations of all approaches\n",
    "for i in range(len(x)):\n",
    "    \n",
    "    it1, it2 = 0,0\n",
    "    iterations1, iterations2 = 0,0\n",
    "    \n",
    "    for k in range (0,samples):\n",
    "        \n",
    "        iterations1 = FindCatalan(x[i],\"Brute\")\n",
    "        iterations2 = FindCatalan(x[i],\"Dynamic\")\n",
    "        \n",
    "        it1 = it1 + iterations1\n",
    "        it2 = it2 + iterations2\n",
    "    \n",
    "    brute_force.append(it1/samples)\n",
    "    dynamic_prog.append(it2/samples)"
   ]
  },
  {
   "cell_type": "code",
   "execution_count": 18,
   "id": "horizontal-gilbert",
   "metadata": {},
   "outputs": [
    {
     "data": {
      "image/png": "[encoded data removed]",
      "text/plain": [
       "<Figure size 720x576 with 1 Axes>"
      ]
     },
     "metadata": {
      "needs_background": "light"
     },
     "output_type": "display_data"
    }
   ],
   "source": [
    "# Plots the complexity graph\n",
    "plt.figure(figsize=(10, 8))\n",
    "plt.plot(x,dynamic_prog, c=\"green\", ls=\"-\", lw = 1, marker=\"o\", label=\"Dynamic Programming\")\n",
    "plt.plot(x,brute_force, c=\"orange\", ls=\"-\",  lw = 1, marker=\"o\", label=\"Brute Force\")\n",
    "plt.title(\"Dynamic Programming vs Brute Force\",fontsize=14)\n",
    "plt.xlabel(\"Input\",fontsize=14)\n",
    "plt.ylabel(\"Number of iterations\",fontsize=14)\n",
    "plt.legend(fontsize=13)\n",
    "plt.show()"
   ]
  }
 ],
 "metadata": {
  "kernelspec": {
   "display_name": "Python 3",
   "language": "python",
   "name": "python3"
  },
  "language_info": {
   "codemirror_mode": {
    "name": "ipython",
    "version": 3
   },
   "file_extension": ".py",
   "mimetype": "text/x-python",
   "name": "python",
   "nbconvert_exporter": "python",
   "pygments_lexer": "ipython3",
   "version": "3.9.4"
  }
 },
 "nbformat": 4,
 "nbformat_minor": 5
}
