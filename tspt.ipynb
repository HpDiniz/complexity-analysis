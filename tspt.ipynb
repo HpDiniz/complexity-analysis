{
 "cells": [
  {
   "cell_type": "code",
   "execution_count": 2,
   "id": "incorrect-reset",
   "metadata": {},
   "outputs": [],
   "source": [
    "import numpy as np\n",
    "import networkx as nx\n",
    "import matplotlib.pyplot as plt\n",
    "from collections import defaultdict\n",
    "from numpy import random"
   ]
  },
  {
   "cell_type": "code",
   "execution_count": 3,
   "id": "opposite-exercise",
   "metadata": {},
   "outputs": [],
   "source": [
    "# Function to find the minimum weight de percorrer todos os caminhos do grafo sem repetir\n",
    "def tspt(G, n, v, currPos = 0, count = 1, cost = 0, answer = []):\n",
    "\n",
    "    if (count == n and (currPos,0) in G.edges(currPos)):\n",
    "        answer.append(cost + G.edges[currPos, 0]['weight'])\n",
    "        return\n",
    " \n",
    "    for i in range(n):\n",
    "        if (v[i] == False and (currPos,i) in G.edges(currPos)):\n",
    "             \n",
    "            v[i] = True\n",
    "            tspt(G, n, v, i, count + 1, cost + G.edges[currPos, i]['weight'], answer)\n",
    "             \n",
    "            v[i] = False\n",
    "            \n",
    "    return min(answer)"
   ]
  },
  {
   "cell_type": "code",
   "execution_count": 4,
   "id": "positive-projector",
   "metadata": {},
   "outputs": [],
   "source": [
    "# Function to find the minimum weight de percorrer todos os caminhos do grafo sem repetir\n",
    "def tspt_bruteForce(G, n, currPos = 0, count = 1, cost = 0, answer = []):\n",
    "\n",
    "    if (count == n and (currPos,0) in G.edges(currPos)):\n",
    "        answer.append(cost + G.edges[currPos, 0]['weight'])\n",
    "        return\n",
    " \n",
    "    for i in range(n):\n",
    "        if ((currPos,i) in G.edges(currPos)):\n",
    "            tspt_bruteForce(G, n, i, count + 1, cost + G.edges[currPos, i]['weight'], answer)\n",
    "\n",
    "    return min(answer)"
   ]
  },
  {
   "cell_type": "code",
   "execution_count": 132,
   "id": "ambient-somalia",
   "metadata": {},
   "outputs": [],
   "source": [
    "def tspt_bruteForce2(graph):\n",
    "    \n",
    "#     allSubsets = []\n",
    "#     current_best = float('inf')\n",
    "#     AllSubsets(current_best, np.zeros(len(current_best), dtype=int), allSubsets)\n",
    "\n",
    "    for i in graph.nodes():\n",
    "        print(graph.edges(i))\n",
    "    \n",
    "#     for sub in allSubsets:\n",
    "#         if CoverAll(graph,sub) and len(sub) < len(current_best):\n",
    "#             current_best = sub \n",
    "\n",
    "#     return current_best\n",
    "               \n",
    "def AllSubsets(w, x, n, allSets, index=0):\n",
    "    \n",
    "    if(index == len(w)):\n",
    "        edge = (GetSet(w,x))\n",
    "        if len(edge) == n:\n",
    "            allSets.append(edge)\n",
    "    else:\n",
    "        x[index] = 0\n",
    "        AllSubsets(w, x,n, allSets, index+1)\n",
    "        x[index] = 1\n",
    "        AllSubsets(w, x,n, allSets, index+1)\n",
    "    \n",
    "    return allSets\n",
    "\n",
    "def GetSet(w, x):\n",
    "    i = 0\n",
    "    setW = []\n",
    "    for edge in w:\n",
    "        if x[i] == 1:\n",
    "            setW.append(edge)\n",
    "        i+=1\n",
    "    return setW\n",
    "\n",
    "def IsValid(edges):\n",
    "    \n",
    "    aux = [edges[0]]\n",
    "    \n",
    "    for i in range(1,len(edges)):\n",
    "        item = GetNeighbor(aux, edges)\n",
    "        if item is not None:\n",
    "            aux.append(item)\n",
    "\n",
    "    return len(aux) == len(edges)\n",
    "        \n",
    "def GetNeighbor(aux,edges):\n",
    "    for e in edges:\n",
    "        if e not in aux:\n",
    "            if e[0] == aux[-1][0] or e[1] == aux[-1][0]:\n",
    "                return e\n",
    "            elif e[0] == aux[-1][1] or e[1] == aux[-1][1]:\n",
    "                return e"
   ]
  },
  {
   "cell_type": "code",
   "execution_count": 133,
   "id": "younger-simulation",
   "metadata": {},
   "outputs": [
    {
     "name": "stdout",
     "output_type": "stream",
     "text": [
      "80\n"
     ]
    }
   ],
   "source": [
    "G = nx.Graph()\n",
    "\n",
    "G.add_edge(0, 1, weight=10)\n",
    "G.add_edge(0, 2, weight=15)\n",
    "G.add_edge(0, 3, weight=20)\n",
    "G.add_edge(1, 0, weight=10)\n",
    "G.add_edge(1, 2, weight=35)\n",
    "G.add_edge(1, 3, weight=25)\n",
    "G.add_edge(2, 0, weight=15)\n",
    "G.add_edge(2, 1, weight=35)\n",
    "G.add_edge(2, 3, weight=30)\n",
    "G.add_edge(3, 0, weight=20)\n",
    "G.add_edge(3, 1, weight=25)\n",
    "G.add_edge(3, 2, weight=30)\n",
    "\n",
    "n = len(G.nodes())\n",
    "\n",
    "v = [False for i in range(n)]\n",
    "\n",
    "v[0] = True \n",
    "\n",
    "answer = tspt(G, n, v)\n",
    "\n",
    "print(answer)"
   ]
  },
  {
   "cell_type": "code",
   "execution_count": 5,
   "id": "assured-great",
   "metadata": {},
   "outputs": [
    {
     "name": "stdout",
     "output_type": "stream",
     "text": [
      "[(0, 1), (0, 2), (0, 3), (1, 2), (1, 3), (2, 3)]\n"
     ]
    }
   ],
   "source": [
    "G = nx.Graph()\n",
    "\n",
    "G.add_edge(0, 1, weight=10)\n",
    "G.add_edge(0, 2, weight=15)\n",
    "G.add_edge(0, 3, weight=20)\n",
    "G.add_edge(1, 0, weight=10)\n",
    "G.add_edge(1, 2, weight=35)\n",
    "G.add_edge(1, 3, weight=25)\n",
    "G.add_edge(2, 0, weight=15)\n",
    "G.add_edge(2, 1, weight=35)\n",
    "G.add_edge(2, 3, weight=30)\n",
    "G.add_edge(3, 0, weight=20)\n",
    "G.add_edge(3, 1, weight=25)\n",
    "G.add_edge(3, 2, weight=30)\n",
    "\n",
    "print(G.edges())\n",
    "\n",
    "# n = len(G.nodes())\n",
    "\n",
    "# tspt_bruteForce(G,n)"
   ]
  },
  {
   "cell_type": "code",
   "execution_count": null,
   "id": "immune-credits",
   "metadata": {},
   "outputs": [],
   "source": [
    "\n",
    "# allSubsets = []\n",
    "# current_best = G.edges()\n",
    "# AllSubsets(current_best, np.zeros(len(G.edges()), dtype=int), len(G.nodes()), allSubsets)\n",
    "\n",
    "\n",
    "# for sub in allSubsets:\n",
    "#     if(IsValid(sub)):\n",
    "#         cost = 0\n",
    "#         for x in sub:\n",
    "#             cost = cost + G.edges[x[0], x[1]]['weight']\n",
    "#         print(sub)\n",
    "#         print(cost)"
   ]
  }
 ],
 "metadata": {
  "kernelspec": {
   "display_name": "Python 3",
   "language": "python",
   "name": "python3"
  },
  "language_info": {
   "codemirror_mode": {
    "name": "ipython",
    "version": 3
   },
   "file_extension": ".py",
   "mimetype": "text/x-python",
   "name": "python",
   "nbconvert_exporter": "python",
   "pygments_lexer": "ipython3",
   "version": "3.9.4"
  }
 },
 "nbformat": 4,
 "nbformat_minor": 5
}
